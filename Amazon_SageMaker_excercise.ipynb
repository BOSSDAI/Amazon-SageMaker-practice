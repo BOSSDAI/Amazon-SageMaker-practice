{
  "nbformat": 4,
  "nbformat_minor": 0,
  "metadata": {
    "kernelspec": {
      "display_name": "conda_python3",
      "language": "python",
      "name": "conda_python3"
    },
    "language_info": {
      "codemirror_mode": {
        "name": "ipython",
        "version": 3
      },
      "file_extension": ".py",
      "mimetype": "text/x-python",
      "name": "python",
      "nbconvert_exporter": "python",
      "pygments_lexer": "ipython3",
      "version": "3.6.5"
    },
    "colab": {
      "name": "Amazon SageMaker excercise.ipynb",
      "provenance": [],
      "collapsed_sections": [],
      "include_colab_link": true
    }
  },
  "cells": [
    {
      "cell_type": "markdown",
      "metadata": {
        "id": "view-in-github",
        "colab_type": "text"
      },
      "source": [
        "<a href=\"https://colab.research.google.com/github/BOSSDAI/Amazon-SageMaker-practice/blob/master/Amazon_SageMaker_excercise.ipynb\" target=\"_parent\"><img src=\"https://colab.research.google.com/assets/colab-badge.svg\" alt=\"Open In Colab\"/></a>"
      ]
    },
    {
      "cell_type": "markdown",
      "metadata": {
        "id": "zFl3SEr7XT_l",
        "colab_type": "text"
      },
      "source": [
        "#  Visualize data by the help of Amazon SageMaker"
      ]
    },
    {
      "cell_type": "code",
      "metadata": {
        "id": "vHhlpmn3XT_q",
        "colab_type": "code",
        "colab": {}
      },
      "source": [
        "import pandas as pd\n",
        "from bokeh.plotting import figure, output_file, show\n",
        "from bokeh.models import ColumnDataSource\n",
        "\n",
        "output_file('newdata.html')\n",
        "df = pd.read_csv('/home/ec2-user/flightdata.csv')\n",
        "sample = df.sample (50)\n",
        "source = ColumnDataSource(sample)\n",
        "p=figure()\n",
        "p.circle(x='Distance', y='ArrDelay', source=source, size=10, color='green')\n",
        "p.title.text = 'Flight delay chart'\n",
        "p.xaxis.axis_label = \"Distance\"\n",
        "p.yaxis.axis_label = \"Delay\"\n",
        "show(p)"
      ],
      "execution_count": 0,
      "outputs": []
    }
  ]
}